{
 "cells": [
  {
   "cell_type": "code",
   "execution_count": null,
   "metadata": {},
   "outputs": [],
   "source": [
    "import six\n",
    "import sys\n",
    "\n",
    "if sys.version_info >= (3, 12, 0):\n",
    "    sys.modules['kafka.vendor.six.moves'] = six.moves\n",
    "\n",
    "from kafka.consumer.group import KafkaConsumer\n",
    "import json"
   ]
  },
  {
   "cell_type": "code",
   "execution_count": null,
   "metadata": {},
   "outputs": [],
   "source": [
    "# To consume latest messages and auto-commit offsets\n",
    "if sys.version_info >= (3, 12, 0):\n",
    "    sys.modules['kafka.vendor.six.moves'] = six.moves\n",
    "\n",
    "\n",
    "consumer = KafkaConsumer('Experiment',\n",
    "                         bootstrap_servers=['localhost:9092'])\n",
    "for message in consumer:\n",
    "    # message value and key are raw bytes -- decode if necessary!\n",
    "    # e.g., for unicode: `message.value.decode('utf-8')`\n",
    "    message_str = message.value.decode('UTF-8')\n",
    "\n",
    "        # Handle the case where multiple JSON objects might be concatenated\n",
    "    # Split the string at positions where one JSON object ends and another begins\n",
    "    json_str = message_str.replace('}{', '}\\n{')\n",
    "    \n",
    "    # Process each JSON object\n",
    "    for json_obj in json_str.split('\\n'):\n",
    "            # Parse the JSON string into a Python dictionary\n",
    "            flight_data = json.loads(json_obj)\n",
    "            \n",
    "            # Append the dictionary to our list\n",
    "            #flight_data_list.append(flight_data)\n",
    "            \n",
    "            # Print the parsed data (optional)\n",
    "            print(f\"Received flight data: {flight_data}\")"
   ]
  }
 ],
 "metadata": {
  "kernelspec": {
   "display_name": "Python 3",
   "language": "python",
   "name": "python3"
  },
  "language_info": {
   "name": "python",
   "version": "3.12.7"
  }
 },
 "nbformat": 4,
 "nbformat_minor": 2
}
